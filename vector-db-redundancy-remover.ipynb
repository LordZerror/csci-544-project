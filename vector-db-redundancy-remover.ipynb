{
 "cells": [
  {
   "cell_type": "code",
   "execution_count": 2,
   "id": "6ff4a679",
   "metadata": {},
   "outputs": [
    {
     "name": "stderr",
     "output_type": "stream",
     "text": [
      "/Users/kaushalpatil/Development/USC MS CSAI Program/Applied NLP/venv/lib/python3.10/site-packages/tqdm/auto.py:21: TqdmWarning: IProgress not found. Please update jupyter and ipywidgets. See https://ipywidgets.readthedocs.io/en/stable/user_install.html\n",
      "  from .autonotebook import tqdm as notebook_tqdm\n"
     ]
    },
    {
     "data": {
      "text/plain": [
       "BertModel(\n",
       "  (embeddings): BertEmbeddings(\n",
       "    (word_embeddings): Embedding(31090, 768, padding_idx=0)\n",
       "    (position_embeddings): Embedding(512, 768)\n",
       "    (token_type_embeddings): Embedding(2, 768)\n",
       "    (LayerNorm): LayerNorm((768,), eps=1e-12, elementwise_affine=True)\n",
       "    (dropout): Dropout(p=0.1, inplace=False)\n",
       "  )\n",
       "  (encoder): BertEncoder(\n",
       "    (layer): ModuleList(\n",
       "      (0-11): 12 x BertLayer(\n",
       "        (attention): BertAttention(\n",
       "          (self): BertSdpaSelfAttention(\n",
       "            (query): Linear(in_features=768, out_features=768, bias=True)\n",
       "            (key): Linear(in_features=768, out_features=768, bias=True)\n",
       "            (value): Linear(in_features=768, out_features=768, bias=True)\n",
       "            (dropout): Dropout(p=0.1, inplace=False)\n",
       "          )\n",
       "          (output): BertSelfOutput(\n",
       "            (dense): Linear(in_features=768, out_features=768, bias=True)\n",
       "            (LayerNorm): LayerNorm((768,), eps=1e-12, elementwise_affine=True)\n",
       "            (dropout): Dropout(p=0.1, inplace=False)\n",
       "          )\n",
       "        )\n",
       "        (intermediate): BertIntermediate(\n",
       "          (dense): Linear(in_features=768, out_features=3072, bias=True)\n",
       "          (intermediate_act_fn): GELUActivation()\n",
       "        )\n",
       "        (output): BertOutput(\n",
       "          (dense): Linear(in_features=3072, out_features=768, bias=True)\n",
       "          (LayerNorm): LayerNorm((768,), eps=1e-12, elementwise_affine=True)\n",
       "          (dropout): Dropout(p=0.1, inplace=False)\n",
       "        )\n",
       "      )\n",
       "    )\n",
       "  )\n",
       "  (pooler): BertPooler(\n",
       "    (dense): Linear(in_features=768, out_features=768, bias=True)\n",
       "    (activation): Tanh()\n",
       "  )\n",
       ")"
      ]
     },
     "execution_count": 2,
     "metadata": {},
     "output_type": "execute_result"
    }
   ],
   "source": [
    "import pandas as pd\n",
    "import numpy as np\n",
    "from annoy import AnnoyIndex \n",
    "\n",
    "from transformers import AutoTokenizer, AutoModel\n",
    "import torch\n",
    "\n",
    "# Load once (outside the function if embedding multiple times)\n",
    "tokenizer = AutoTokenizer.from_pretrained(\"allenai/scibert_scivocab_uncased\")\n",
    "model = AutoModel.from_pretrained(\"allenai/scibert_scivocab_uncased\")\n",
    "model.eval()  # optional, ensures no dropout during inference\n",
    "# device = \"cuda\" if torch.cuda.is_available() else \"mps\"\n",
    "# model.to(device)"
   ]
  },
  {
   "cell_type": "code",
   "execution_count": 3,
   "id": "3d5faa4e",
   "metadata": {},
   "outputs": [],
   "source": [
    "def get_scibert_embedding(text: str, pooling: str = \"mean\") -> torch.Tensor:\n",
    "    inputs = tokenizer(text, return_tensors=\"pt\", truncation=True, padding=True)\n",
    "    with torch.no_grad():\n",
    "        outputs = model(**inputs)\n",
    "        last_hidden_state = outputs.last_hidden_state  # [1, seq_len, 768]\n",
    "    \n",
    "    if pooling == \"mean\":\n",
    "        embedding = last_hidden_state.mean(dim=1)  # Average pooling\n",
    "    elif pooling == \"cls\":\n",
    "        embedding = last_hidden_state[:, 0, :]  # [CLS] token\n",
    "    else:\n",
    "        raise ValueError(\"Pooling must be 'mean' or 'cls'\")\n",
    "    return embedding[0]  # shape: [1, 768]\n"
   ]
  },
  {
   "cell_type": "code",
   "execution_count": 4,
   "id": "6620d685",
   "metadata": {},
   "outputs": [],
   "source": [
    "ls = ['deep learning', 'machine learning', 'artificial intelligence', 'natural language processing']"
   ]
  },
  {
   "cell_type": "code",
   "execution_count": 5,
   "id": "6f4a3438",
   "metadata": {},
   "outputs": [
    {
     "name": "stderr",
     "output_type": "stream",
     "text": [
      "Asking to truncate to max_length but no maximum length is provided and the model has no predefined maximum length. Default to no truncation.\n"
     ]
    }
   ],
   "source": [
    "embeddings_combined_dict = {}\n",
    "\n",
    "for i in ls:\n",
    "    embeddings_combined_dict[i] = get_scibert_embedding(i, pooling=\"mean\")"
   ]
  },
  {
   "cell_type": "code",
   "execution_count": 8,
   "id": "48c4a92c",
   "metadata": {},
   "outputs": [
    {
     "data": {
      "text/plain": [
       "768"
      ]
     },
     "execution_count": 8,
     "metadata": {},
     "output_type": "execute_result"
    }
   ],
   "source": [
    "len(embeddings_combined_dict['deep learning'])"
   ]
  },
  {
   "cell_type": "code",
   "execution_count": 10,
   "id": "212f6d7c",
   "metadata": {},
   "outputs": [],
   "source": [
    "alternate_keys = {}\n",
    "start = 1\n",
    "for i in embeddings_combined_dict:\n",
    "    alternate_keys[i] = start\n",
    "    start += 1\n",
    "\n",
    "reverse_alternate_keys = {}\n",
    "\n",
    "for i, j in alternate_keys.items():\n",
    "    reverse_alternate_keys[j] = i"
   ]
  },
  {
   "cell_type": "code",
   "execution_count": 12,
   "id": "cec1bd75",
   "metadata": {},
   "outputs": [
    {
     "data": {
      "text/plain": [
       "({'deep learning': 1,\n",
       "  'machine learning': 2,\n",
       "  'artificial intelligence': 3,\n",
       "  'natural language processing': 4},\n",
       " {1: 'deep learning',\n",
       "  2: 'machine learning',\n",
       "  3: 'artificial intelligence',\n",
       "  4: 'natural language processing'})"
      ]
     },
     "execution_count": 12,
     "metadata": {},
     "output_type": "execute_result"
    }
   ],
   "source": [
    "alternate_keys, reverse_alternate_keys"
   ]
  },
  {
   "cell_type": "code",
   "execution_count": 13,
   "id": "530ecec7",
   "metadata": {},
   "outputs": [
    {
     "name": "stderr",
     "output_type": "stream",
     "text": [
      "/var/folders/xx/cq2k_b4j60l3mtp2k3x41s0w0000gn/T/ipykernel_793/2678890434.py:2: FutureWarning: The default argument for metric will be removed in future version of Annoy. Please pass metric='angular' explicitly.\n",
      "  t = AnnoyIndex(f)\n"
     ]
    },
    {
     "data": {
      "text/plain": [
       "True"
      ]
     },
     "execution_count": 13,
     "metadata": {},
     "output_type": "execute_result"
    }
   ],
   "source": [
    "f = 768 # Number of Dimensions\n",
    "t = AnnoyIndex(f)\n",
    "for i, j in embeddings_combined_dict.items():\n",
    "    t.add_item(alternate_keys[i], j)\n",
    "    \n",
    "t.build(f)\n",
    "t.save('entity-search-tree.ann')"
   ]
  },
  {
   "cell_type": "code",
   "execution_count": 14,
   "id": "28c5b6b4",
   "metadata": {},
   "outputs": [
    {
     "name": "stderr",
     "output_type": "stream",
     "text": [
      "/var/folders/xx/cq2k_b4j60l3mtp2k3x41s0w0000gn/T/ipykernel_793/3469600886.py:1: FutureWarning: The default argument for metric will be removed in future version of Annoy. Please pass metric='angular' explicitly.\n",
      "  search_space = AnnoyIndex(768)\n"
     ]
    },
    {
     "data": {
      "text/plain": [
       "True"
      ]
     },
     "execution_count": 14,
     "metadata": {},
     "output_type": "execute_result"
    }
   ],
   "source": [
    "search_space = AnnoyIndex(768)\n",
    "search_space.load('./entity-search-tree.ann')"
   ]
  },
  {
   "cell_type": "code",
   "execution_count": 17,
   "id": "c3c7f4eb",
   "metadata": {},
   "outputs": [],
   "source": [
    "def text_space_search(query: str, num : int = 10):\n",
    "    query_vector = get_scibert_embedding(query) \n",
    "    ans = search_space.get_nns_by_vector(query_vector, num)\n",
    "    return ans"
   ]
  },
  {
   "cell_type": "code",
   "execution_count": 19,
   "id": "5266c15b",
   "metadata": {},
   "outputs": [
    {
     "name": "stdout",
     "output_type": "stream",
     "text": [
      "deep learning\n",
      "machine learning\n",
      "artificial intelligence\n",
      "natural language processing\n"
     ]
    }
   ],
   "source": [
    "for i in text_space_search('deep learning', 5):\n",
    "    print(reverse_alternate_keys[i])"
   ]
  }
 ],
 "metadata": {
  "kernelspec": {
   "display_name": "venv",
   "language": "python",
   "name": "python3"
  },
  "language_info": {
   "codemirror_mode": {
    "name": "ipython",
    "version": 3
   },
   "file_extension": ".py",
   "mimetype": "text/x-python",
   "name": "python",
   "nbconvert_exporter": "python",
   "pygments_lexer": "ipython3",
   "version": "3.10.5"
  }
 },
 "nbformat": 4,
 "nbformat_minor": 5
}
